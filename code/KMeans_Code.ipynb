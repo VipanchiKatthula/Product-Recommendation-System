{
  "nbformat": 4,
  "nbformat_minor": 0,
  "metadata": {
    "colab": {
      "name": "Context_Based_Recommendation.ipynb",
      "provenance": []
    },
    "kernelspec": {
      "name": "python3",
      "display_name": "Python 3"
    },
    "accelerator": "TPU"
  },
  "cells": [
    {
      "cell_type": "code",
      "metadata": {
        "id": "WaPhjuxcgGGg",
        "colab_type": "code",
        "colab": {}
      },
      "source": [
        "import os\n",
        "import json\n",
        "import gzip\n",
        "import pandas as pd"
      ],
      "execution_count": 0,
      "outputs": []
    },
    {
      "cell_type": "code",
      "metadata": {
        "id": "KAQhgZ-MsTeE",
        "colab_type": "code",
        "colab": {}
      },
      "source": [
        "from sklearn.feature_extraction.text import TfidfVectorizer, CountVectorizer\n",
        "from sklearn.neighbors import NearestNeighbors\n",
        "from sklearn.cluster import KMeans\n",
        "from sklearn.metrics import adjusted_rand_score"
      ],
      "execution_count": 0,
      "outputs": []
    },
    {
      "cell_type": "code",
      "metadata": {
        "id": "r9XPHkckxrTl",
        "colab_type": "code",
        "colab": {}
      },
      "source": [
        "import pickle\n"
      ],
      "execution_count": 0,
      "outputs": []
    },
    {
      "cell_type": "code",
      "metadata": {
        "id": "QzaQreYH340f",
        "colab_type": "code",
        "colab": {}
      },
      "source": [
        "!apt-get install openjdk-8-jdk-headless -qq > /dev/null"
      ],
      "execution_count": 0,
      "outputs": []
    },
    {
      "cell_type": "code",
      "metadata": {
        "id": "Alz1C_SI37WS",
        "colab_type": "code",
        "colab": {}
      },
      "source": [
        "!wget -q http://apache.mirrors.pair.com/spark/spark-2.4.5/spark-2.4.5-bin-hadoop2.7.tgz"
      ],
      "execution_count": 0,
      "outputs": []
    },
    {
      "cell_type": "code",
      "metadata": {
        "id": "PDZJNfeN3-eY",
        "colab_type": "code",
        "colab": {}
      },
      "source": [
        "!tar -xvf spark-2.4.5-bin-hadoop2.7.tgz"
      ],
      "execution_count": 0,
      "outputs": []
    },
    {
      "cell_type": "code",
      "metadata": {
        "id": "bYNMs2AG4BbG",
        "colab_type": "code",
        "colab": {}
      },
      "source": [
        "!pip install -q pyspark"
      ],
      "execution_count": 0,
      "outputs": []
    },
    {
      "cell_type": "code",
      "metadata": {
        "id": "0g8EAzFf4DzO",
        "colab_type": "code",
        "colab": {}
      },
      "source": [
        "import os\n",
        "os.environ[\"JAVA_HOME\"] = \"/usr/lib/jvm/java-8-openjdk-amd64\"\n",
        "os.environ[\"SPARK_HOME\"] = \"/content/spark-2.4.5-bin-hadoop2.7\""
      ],
      "execution_count": 0,
      "outputs": []
    },
    {
      "cell_type": "code",
      "metadata": {
        "id": "fTp5eIDj4G_g",
        "colab_type": "code",
        "colab": {}
      },
      "source": [
        ""
      ],
      "execution_count": 0,
      "outputs": []
    },
    {
      "cell_type": "code",
      "metadata": {
        "id": "m1JE96ZZwGHp",
        "colab_type": "code",
        "colab": {}
      },
      "source": [
        "import matplotlib.pyplot as plt\n",
        "\n",
        "# %matplotlib inline\n",
        "plt.style.use(\"ggplot\")"
      ],
      "execution_count": 0,
      "outputs": []
    },
    {
      "cell_type": "code",
      "metadata": {
        "id": "Ge0X6i10gVdk",
        "colab_type": "code",
        "outputId": "fc565300-4216-41f0-ecd5-dc9401f94c20",
        "colab": {
          "base_uri": "https://localhost:8080/",
          "height": 34
        }
      },
      "source": [
        "from google.colab import drive\n",
        "drive.mount('/content/drive')"
      ],
      "execution_count": 0,
      "outputs": [
        {
          "output_type": "stream",
          "text": [
            "Drive already mounted at /content/drive; to attempt to forcibly remount, call drive.mount(\"/content/drive\", force_remount=True).\n"
          ],
          "name": "stdout"
        }
      ]
    },
    {
      "cell_type": "code",
      "metadata": {
        "id": "uM1sAVSkgi7D",
        "colab_type": "code",
        "outputId": "b7b0239c-71e4-4f6a-8323-1181ff4730c9",
        "colab": {
          "base_uri": "https://localhost:8080/",
          "height": 71
        }
      },
      "source": [
        "\n",
        "data = []\n",
        "with gzip.open('/content/drive/My Drive/reviews_amazon.gz') as f:\n",
        "    for l in f:\n",
        "        data.append(json.loads(l.strip()))\n",
        "    \n",
        "# total length of list, this number equals total number of products\n",
        "print(len(data))\n",
        "\n",
        "# first row of the list\n",
        "print(data[0])"
      ],
      "execution_count": 0,
      "outputs": [
        {
          "output_type": "stream",
          "text": [
            "151254\n",
            "{'reviewerID': 'A1VEELTKS8NLZB', 'asin': '616719923X', 'reviewerName': 'Amazon Customer', 'helpful': [0, 0], 'reviewText': 'Just another flavor of Kit Kat but the taste is unique and a bit different.  The only thing that is bothersome is the price.  I thought it was a bit expensive....', 'overall': 4.0, 'summary': 'Good Taste', 'unixReviewTime': 1370044800, 'reviewTime': '06 1, 2013'}\n"
          ],
          "name": "stdout"
        }
      ]
    },
    {
      "cell_type": "code",
      "metadata": {
        "id": "0VNu1aZziAaf",
        "colab_type": "code",
        "outputId": "95ef4ee6-dc05-4ff2-d6a1-0d68d921d3b2",
        "colab": {
          "base_uri": "https://localhost:8080/",
          "height": 419
        }
      },
      "source": [
        "df_review = pd.DataFrame.from_dict(data)\n",
        "df_review  = df_review.iloc[:,[1,4]]\n",
        "df_review = df_review.dropna()\n",
        "df_review"
      ],
      "execution_count": 0,
      "outputs": [
        {
          "output_type": "execute_result",
          "data": {
            "text/html": [
              "<div>\n",
              "<style scoped>\n",
              "    .dataframe tbody tr th:only-of-type {\n",
              "        vertical-align: middle;\n",
              "    }\n",
              "\n",
              "    .dataframe tbody tr th {\n",
              "        vertical-align: top;\n",
              "    }\n",
              "\n",
              "    .dataframe thead th {\n",
              "        text-align: right;\n",
              "    }\n",
              "</style>\n",
              "<table border=\"1\" class=\"dataframe\">\n",
              "  <thead>\n",
              "    <tr style=\"text-align: right;\">\n",
              "      <th></th>\n",
              "      <th>asin</th>\n",
              "      <th>reviewText</th>\n",
              "    </tr>\n",
              "  </thead>\n",
              "  <tbody>\n",
              "    <tr>\n",
              "      <th>0</th>\n",
              "      <td>616719923X</td>\n",
              "      <td>Just another flavor of Kit Kat but the taste i...</td>\n",
              "    </tr>\n",
              "    <tr>\n",
              "      <th>1</th>\n",
              "      <td>616719923X</td>\n",
              "      <td>I bought this on impulse and it comes from Jap...</td>\n",
              "    </tr>\n",
              "    <tr>\n",
              "      <th>2</th>\n",
              "      <td>616719923X</td>\n",
              "      <td>Really good. Great gift for any fan of green t...</td>\n",
              "    </tr>\n",
              "    <tr>\n",
              "      <th>3</th>\n",
              "      <td>616719923X</td>\n",
              "      <td>I had never had it before, was curious to see ...</td>\n",
              "    </tr>\n",
              "    <tr>\n",
              "      <th>4</th>\n",
              "      <td>616719923X</td>\n",
              "      <td>I've been looking forward to trying these afte...</td>\n",
              "    </tr>\n",
              "    <tr>\n",
              "      <th>...</th>\n",
              "      <td>...</td>\n",
              "      <td>...</td>\n",
              "    </tr>\n",
              "    <tr>\n",
              "      <th>151249</th>\n",
              "      <td>B00KCJRVO2</td>\n",
              "      <td>Delicious gluten-free oatmeal: we tried both t...</td>\n",
              "    </tr>\n",
              "    <tr>\n",
              "      <th>151250</th>\n",
              "      <td>B00KCJRVO2</td>\n",
              "      <td>With the many selections of instant oatmeal ce...</td>\n",
              "    </tr>\n",
              "    <tr>\n",
              "      <th>151251</th>\n",
              "      <td>B00KCJRVO2</td>\n",
              "      <td>While I usually review CDs and DVDs, as well a...</td>\n",
              "    </tr>\n",
              "    <tr>\n",
              "      <th>151252</th>\n",
              "      <td>B00KCJRVO2</td>\n",
              "      <td>My son and I enjoyed these oatmeal packets.  H...</td>\n",
              "    </tr>\n",
              "    <tr>\n",
              "      <th>151253</th>\n",
              "      <td>B00KCJRVO2</td>\n",
              "      <td>I like to eat oatmeal i the mornings. I usuall...</td>\n",
              "    </tr>\n",
              "  </tbody>\n",
              "</table>\n",
              "<p>151254 rows × 2 columns</p>\n",
              "</div>"
            ],
            "text/plain": [
              "              asin                                         reviewText\n",
              "0       616719923X  Just another flavor of Kit Kat but the taste i...\n",
              "1       616719923X  I bought this on impulse and it comes from Jap...\n",
              "2       616719923X  Really good. Great gift for any fan of green t...\n",
              "3       616719923X  I had never had it before, was curious to see ...\n",
              "4       616719923X  I've been looking forward to trying these afte...\n",
              "...            ...                                                ...\n",
              "151249  B00KCJRVO2  Delicious gluten-free oatmeal: we tried both t...\n",
              "151250  B00KCJRVO2  With the many selections of instant oatmeal ce...\n",
              "151251  B00KCJRVO2  While I usually review CDs and DVDs, as well a...\n",
              "151252  B00KCJRVO2  My son and I enjoyed these oatmeal packets.  H...\n",
              "151253  B00KCJRVO2  I like to eat oatmeal i the mornings. I usuall...\n",
              "\n",
              "[151254 rows x 2 columns]"
            ]
          },
          "metadata": {
            "tags": []
          },
          "execution_count": 60
        }
      ]
    },
    {
      "cell_type": "code",
      "metadata": {
        "id": "PYap1zPWrhwe",
        "colab_type": "code",
        "outputId": "df2cf987-cf07-43a0-d183-4f3beee2bedd",
        "colab": {
          "base_uri": "https://localhost:8080/",
          "height": 221
        }
      },
      "source": [
        "df_review['reviewText'].head(500)"
      ],
      "execution_count": 0,
      "outputs": [
        {
          "output_type": "execute_result",
          "data": {
            "text/plain": [
              "0      Just another flavor of Kit Kat but the taste i...\n",
              "1      I bought this on impulse and it comes from Jap...\n",
              "2      Really good. Great gift for any fan of green t...\n",
              "3      I had never had it before, was curious to see ...\n",
              "4      I've been looking forward to trying these afte...\n",
              "                             ...                        \n",
              "495    Imagine the horror my son felt as he unwrapped...\n",
              "496    Daddy delivers is a big way... Just tie a stri...\n",
              "497    I'm hopping mad just seeing this. We should al...\n",
              "498    My only complaint with this product is that ot...\n",
              "499    I bought two, left them alone in the refrigera...\n",
              "Name: reviewText, Length: 500, dtype: object"
            ]
          },
          "metadata": {
            "tags": []
          },
          "execution_count": 62
        }
      ]
    },
    {
      "cell_type": "code",
      "metadata": {
        "id": "XYgu38TEsOOX",
        "colab_type": "code",
        "outputId": "20bd2034-5703-4e76-c59b-12beedade143",
        "colab": {
          "base_uri": "https://localhost:8080/",
          "height": 51
        }
      },
      "source": [
        "vectorizer = TfidfVectorizer(stop_words='english')\n",
        "vec = vectorizer.fit_transform(df_review[\"reviewText\"])\n",
        "vec"
      ],
      "execution_count": 0,
      "outputs": [
        {
          "output_type": "execute_result",
          "data": {
            "text/plain": [
              "<151254x78009 sparse matrix of type '<class 'numpy.float64'>'\n",
              "\twith 5356538 stored elements in Compressed Sparse Row format>"
            ]
          },
          "metadata": {
            "tags": []
          },
          "execution_count": 63
        }
      ]
    },
    {
      "cell_type": "code",
      "metadata": {
        "id": "FMXw2Ks5tfVD",
        "colab_type": "code",
        "colab": {}
      },
      "source": [
        "#data =  vec\n",
        "#model = KMeans(n_clusters=12, init='k-means++')\n",
        "#clusters = model.fit_predict(data)\n"
      ],
      "execution_count": 0,
      "outputs": []
    },
    {
      "cell_type": "code",
      "metadata": {
        "id": "WRRmvBqH3jvO",
        "colab_type": "code",
        "colab": {}
      },
      "source": [
        "from pyspark import SparkContext\n",
        "from pyspark import SparkConf\n",
        "from pyspark.sql import SparkSession, SQLContext\n",
        "from pyspark.sql.functions import *\n",
        "from pyspark.ml.clustering import KMeans\n",
        "from pyspark.ml.evaluation import ClusteringEvaluator\n",
        "from pyspark.ml import Pipeline"
      ],
      "execution_count": 0,
      "outputs": []
    },
    {
      "cell_type": "code",
      "metadata": {
        "id": "vIwKSkesIdeo",
        "colab_type": "code",
        "colab": {}
      },
      "source": [
        "from pyspark import SparkConf, SparkContext\n",
        "from pyspark.mllib.feature import HashingTF\n",
        "from pyspark.mllib.feature import IDF"
      ],
      "execution_count": 0,
      "outputs": []
    },
    {
      "cell_type": "code",
      "metadata": {
        "id": "BonxXIYu9rnk",
        "colab_type": "code",
        "colab": {}
      },
      "source": [
        "spark = SparkSession.builder.appName('pandasToSparkDF').getOrCreate()\n"
      ],
      "execution_count": 0,
      "outputs": []
    },
    {
      "cell_type": "code",
      "metadata": {
        "id": "0tnMluaV9WP6",
        "colab_type": "code",
        "colab": {}
      },
      "source": [
        "# create Spark context with Spark configuration\n",
        "conf = SparkConf().setAppName(\"recommendation system\")\n",
        "sc = SparkContext(conf=conf)"
      ],
      "execution_count": 0,
      "outputs": []
    },
    {
      "cell_type": "code",
      "metadata": {
        "id": "ght2aJoH9_G7",
        "colab_type": "code",
        "colab": {}
      },
      "source": [
        "df = spark.createDataFrame(df_review.astype(str))"
      ],
      "execution_count": 0,
      "outputs": []
    },
    {
      "cell_type": "code",
      "metadata": {
        "id": "JkxbDUAVC3Ks",
        "colab_type": "code",
        "outputId": "5720991c-bfa1-493a-b0bf-ff423021c97f",
        "colab": {
          "base_uri": "https://localhost:8080/",
          "height": 459
        }
      },
      "source": [
        "df.show()"
      ],
      "execution_count": 0,
      "outputs": [
        {
          "output_type": "stream",
          "text": [
            "+----------+--------------------+\n",
            "|      asin|          reviewText|\n",
            "+----------+--------------------+\n",
            "|616719923X|Just another flav...|\n",
            "|616719923X|I bought this on ...|\n",
            "|616719923X|Really good. Grea...|\n",
            "|616719923X|I had never had i...|\n",
            "|616719923X|I've been looking...|\n",
            "|616719923X|These Kit-kats ar...|\n",
            "|616719923X|I found these in ...|\n",
            "|616719923X|Creamy white choc...|\n",
            "|616719923X|After hearing mix...|\n",
            "|616719923X|I love green tea,...|\n",
            "|616719923X|I ordered these i...|\n",
            "|616719923X|These are definit...|\n",
            "|616719923X|Yes - this is one...|\n",
            "|616719923X|I love the green ...|\n",
            "|616719923X|I love Kit Kat & ...|\n",
            "|616719923X|I tried this for ...|\n",
            "|9742356831|This curry paste ...|\n",
            "|9742356831|I've purchased di...|\n",
            "|9742356831|I love ethnic foo...|\n",
            "|9742356831|I started a new d...|\n",
            "+----------+--------------------+\n",
            "only showing top 20 rows\n",
            "\n"
          ],
          "name": "stdout"
        }
      ]
    },
    {
      "cell_type": "code",
      "metadata": {
        "id": "DsXxG7K_Wj_Y",
        "colab_type": "code",
        "outputId": "cac85ac0-9e7a-48b8-d93d-5c4e03944ba2",
        "colab": {
          "base_uri": "https://localhost:8080/",
          "height": 34
        }
      },
      "source": [
        "df.cache()"
      ],
      "execution_count": 0,
      "outputs": [
        {
          "output_type": "execute_result",
          "data": {
            "text/plain": [
              "DataFrame[asin: string, reviewText: string]"
            ]
          },
          "metadata": {
            "tags": []
          },
          "execution_count": 23
        }
      ]
    },
    {
      "cell_type": "code",
      "metadata": {
        "id": "eSybh-sVWLjF",
        "colab_type": "code",
        "colab": {}
      },
      "source": [
        "from pyspark.ml.feature import HashingTF, IDF, Tokenizer, CountVectorizer, StopWordsRemover\n",
        "from pyspark.ml.evaluation import ClusteringEvaluator\n",
        "from pandas.core.reshape.concat import concat"
      ],
      "execution_count": 0,
      "outputs": []
    },
    {
      "cell_type": "code",
      "metadata": {
        "id": "jILFVsfyWRLM",
        "colab_type": "code",
        "colab": {}
      },
      "source": [
        "tokenizer = Tokenizer(inputCol=\"reviewText\", outputCol=\"tokens\")\n",
        "remover = StopWordsRemover(inputCol=\"tokens\", outputCol=\"stopWordsRemovedTokens\")\n",
        "hashingTF = HashingTF(inputCol=\"stopWordsRemovedTokens\", outputCol=\"rawFeatures\", numFeatures=2000)\n",
        "idf = IDF(inputCol=\"rawFeatures\", outputCol=\"features\", minDocFreq=5)"
      ],
      "execution_count": 0,
      "outputs": []
    },
    {
      "cell_type": "code",
      "metadata": {
        "id": "kgMciDZUWoe2",
        "colab_type": "code",
        "colab": {}
      },
      "source": [
        "kmeans = KMeans(k=12)\n",
        "pipeline = Pipeline(stages=[tokenizer, remover, hashingTF, idf, kmeans])"
      ],
      "execution_count": 0,
      "outputs": []
    },
    {
      "cell_type": "code",
      "metadata": {
        "id": "AVJTOBRGXSg0",
        "colab_type": "code",
        "colab": {}
      },
      "source": [
        "model = pipeline.fit(df)\n"
      ],
      "execution_count": 0,
      "outputs": []
    },
    {
      "cell_type": "code",
      "metadata": {
        "id": "fKvYQ4e_dTlB",
        "colab_type": "code",
        "colab": {}
      },
      "source": [
        "results = model.transform(df)\n"
      ],
      "execution_count": 0,
      "outputs": []
    },
    {
      "cell_type": "code",
      "metadata": {
        "id": "aUKQyr4MdWlf",
        "colab_type": "code",
        "outputId": "6bb0ccaa-c85a-46e0-8985-36e1011bfdf6",
        "colab": {
          "base_uri": "https://localhost:8080/",
          "height": 459
        }
      },
      "source": [
        "results.show()"
      ],
      "execution_count": 0,
      "outputs": [
        {
          "output_type": "stream",
          "text": [
            "+----------+--------------------+--------------------+----------------------+--------------------+--------------------+----------+\n",
            "|      asin|          reviewText|              tokens|stopWordsRemovedTokens|         rawFeatures|            features|prediction|\n",
            "+----------+--------------------+--------------------+----------------------+--------------------+--------------------+----------+\n",
            "|616719923X|Just another flav...|[just, another, f...|  [another, flavor,...|(2000,[150,295,44...|(2000,[150,295,44...|         0|\n",
            "|616719923X|I bought this on ...|[i, bought, this,...|  [bought, impulse,...|(2000,[43,139,156...|(2000,[43,139,156...|         0|\n",
            "|616719923X|Really good. Grea...|[really, good., g...|  [really, good., g...|(2000,[54,260,358...|(2000,[54,260,358...|         0|\n",
            "|616719923X|I had never had i...|[i, had, never, h...|  [never, before,, ...|(2000,[17,123,126...|(2000,[17,123,126...|         0|\n",
            "|616719923X|I've been looking...|[i've, been, look...|  [looking, forward...|(2000,[43,186,213...|(2000,[43,186,213...|         0|\n",
            "|616719923X|These Kit-kats ar...|[these, kit-kats,...|  [kit-kats, good,,...|(2000,[166,254,29...|(2000,[166,254,29...|         0|\n",
            "|616719923X|I found these in ...|[i, found, these,...|  [found, mitsuwa, ...|(2000,[45,375,420...|(2000,[45,375,420...|         0|\n",
            "|616719923X|Creamy white choc...|[creamy, white, c...|  [creamy, white, c...|(2000,[27,28,77,8...|(2000,[27,28,77,8...|         0|\n",
            "|616719923X|After hearing mix...|[after, hearing, ...|  [hearing, mixed, ...|(2000,[44,67,150,...|(2000,[44,67,150,...|         0|\n",
            "|616719923X|I love green tea,...|[i, love, green, ...|  [love, green, tea...|(2000,[69,240,454...|(2000,[69,240,454...|         0|\n",
            "|616719923X|I ordered these i...|[i, ordered, thes...|  [ordered, summer,...|(2000,[0,159,168,...|(2000,[0,159,168,...|         0|\n",
            "|616719923X|These are definit...|[these, are, defi...|  [definitely, best...|(2000,[213,495,54...|(2000,[213,495,54...|         0|\n",
            "|616719923X|Yes - this is one...|[yes, -, this, is...|  [yes, -, one, exp...|(2000,[18,44,85,8...|(2000,[18,44,85,8...|         0|\n",
            "|616719923X|I love the green ...|[i, love, the, gr...|  [love, green, tea...|(2000,[44,240,454...|(2000,[44,240,454...|         0|\n",
            "|616719923X|I love Kit Kat & ...|[i, love, kit, ka...|  [love, kit, kat, ...|(2000,[80,240,562...|(2000,[80,240,562...|         0|\n",
            "|616719923X|I tried this for ...|[i, tried, this, ...|  [tried, first, ti...|(2000,[43,67,77,1...|(2000,[43,67,77,1...|         0|\n",
            "|9742356831|This curry paste ...|[this, curry, pas...|  [curry, paste, ma...|(2000,[220,305,31...|(2000,[220,305,31...|         0|\n",
            "|9742356831|I've purchased di...|[i've, purchased,...|  [purchased, diffe...|(2000,[43,59,126,...|(2000,[43,59,126,...|         0|\n",
            "|9742356831|I love ethnic foo...|[i, love, ethnic,...|  [love, ethnic, fo...|(2000,[34,44,121,...|(2000,[34,44,121,...|         0|\n",
            "|9742356831|I started a new d...|[i, started, a, n...|  [started, new, di...|(2000,[0,25,44,26...|(2000,[0,25,44,26...|         0|\n",
            "+----------+--------------------+--------------------+----------------------+--------------------+--------------------+----------+\n",
            "only showing top 20 rows\n",
            "\n"
          ],
          "name": "stdout"
        }
      ]
    },
    {
      "cell_type": "code",
      "metadata": {
        "id": "MTI2MY8eUz9x",
        "colab_type": "code",
        "colab": {}
      },
      "source": [
        "df6 = results.select(\"asin\",\"prediction\")\n"
      ],
      "execution_count": 0,
      "outputs": []
    },
    {
      "cell_type": "code",
      "metadata": {
        "id": "XTQAXBlUU0PD",
        "colab_type": "code",
        "colab": {}
      },
      "source": [
        "df7 = df6.toPandas()"
      ],
      "execution_count": 0,
      "outputs": []
    },
    {
      "cell_type": "code",
      "metadata": {
        "id": "OF9bgtzec58k",
        "colab_type": "code",
        "colab": {}
      },
      "source": [
        "#df7 = df7.groupby('prediction').agg({'asin': 'sum'})\n",
        "df7 = df7.groupby(['prediction'])['asin'].apply(lambda x: ','.join(x)).reset_index()"
      ],
      "execution_count": 0,
      "outputs": []
    },
    {
      "cell_type": "code",
      "metadata": {
        "id": "H0xaBkX3LoFB",
        "colab_type": "code",
        "outputId": "ce6d4e4e-a9ef-4ff1-bca3-3dc995c84748",
        "colab": {
          "base_uri": "https://localhost:8080/",
          "height": 421
        }
      },
      "source": [
        "df7 = df7.rename(columns={\"prediction\": \"Cluster Number\", \"asin\": \"Product IDs\"})\n",
        "df7"
      ],
      "execution_count": 0,
      "outputs": [
        {
          "output_type": "execute_result",
          "data": {
            "text/html": [
              "<div>\n",
              "<style scoped>\n",
              "    .dataframe tbody tr th:only-of-type {\n",
              "        vertical-align: middle;\n",
              "    }\n",
              "\n",
              "    .dataframe tbody tr th {\n",
              "        vertical-align: top;\n",
              "    }\n",
              "\n",
              "    .dataframe thead th {\n",
              "        text-align: right;\n",
              "    }\n",
              "</style>\n",
              "<table border=\"1\" class=\"dataframe\">\n",
              "  <thead>\n",
              "    <tr style=\"text-align: right;\">\n",
              "      <th></th>\n",
              "      <th>Cluster Number</th>\n",
              "      <th>Product IDs</th>\n",
              "    </tr>\n",
              "  </thead>\n",
              "  <tbody>\n",
              "    <tr>\n",
              "      <th>0</th>\n",
              "      <td>0</td>\n",
              "      <td>616719923X,616719923X,616719923X,616719923X,61...</td>\n",
              "    </tr>\n",
              "    <tr>\n",
              "      <th>1</th>\n",
              "      <td>1</td>\n",
              "      <td>B001AG6BMO</td>\n",
              "    </tr>\n",
              "    <tr>\n",
              "      <th>2</th>\n",
              "      <td>2</td>\n",
              "      <td>9742356831,B0000531B7,B0000531B7,B0000CFN0Y,B0...</td>\n",
              "    </tr>\n",
              "    <tr>\n",
              "      <th>3</th>\n",
              "      <td>3</td>\n",
              "      <td>9742356831,B00004S1C5,B00005344V,B00005C2M2,B0...</td>\n",
              "    </tr>\n",
              "    <tr>\n",
              "      <th>4</th>\n",
              "      <td>4</td>\n",
              "      <td>B000EF18WU,B001EQ4EHE,B0037YP75E,B004TPKAN4,B0...</td>\n",
              "    </tr>\n",
              "    <tr>\n",
              "      <th>5</th>\n",
              "      <td>5</td>\n",
              "      <td>B00006IUTN,B00006IUTN,B00006IUTN,B00006IUTN,B0...</td>\n",
              "    </tr>\n",
              "    <tr>\n",
              "      <th>6</th>\n",
              "      <td>6</td>\n",
              "      <td>B0000DBN1H,B0000DBN1L,B0000DBN1L,B0000DBN1L,B0...</td>\n",
              "    </tr>\n",
              "    <tr>\n",
              "      <th>7</th>\n",
              "      <td>7</td>\n",
              "      <td>B0000531B7,B0000531B7,B0000537AF,B0000CH39R,B0...</td>\n",
              "    </tr>\n",
              "    <tr>\n",
              "      <th>8</th>\n",
              "      <td>8</td>\n",
              "      <td>B0000CFLCT,B00014DJL2,B00015YTU6,B00027CE2S,B0...</td>\n",
              "    </tr>\n",
              "    <tr>\n",
              "      <th>9</th>\n",
              "      <td>9</td>\n",
              "      <td>B00028Q45A,B000ED7M2W,B000ED9L6C,B000ED9LDU,B0...</td>\n",
              "    </tr>\n",
              "    <tr>\n",
              "      <th>10</th>\n",
              "      <td>10</td>\n",
              "      <td>B001ELL288</td>\n",
              "    </tr>\n",
              "    <tr>\n",
              "      <th>11</th>\n",
              "      <td>11</td>\n",
              "      <td>B0000DID5R,B00016LA9S,B00017028M,B0001CXUN6,B0...</td>\n",
              "    </tr>\n",
              "  </tbody>\n",
              "</table>\n",
              "</div>"
            ],
            "text/plain": [
              "    Cluster Number                                        Product IDs\n",
              "0                0  616719923X,616719923X,616719923X,616719923X,61...\n",
              "1                1                                         B001AG6BMO\n",
              "2                2  9742356831,B0000531B7,B0000531B7,B0000CFN0Y,B0...\n",
              "3                3  9742356831,B00004S1C5,B00005344V,B00005C2M2,B0...\n",
              "4                4  B000EF18WU,B001EQ4EHE,B0037YP75E,B004TPKAN4,B0...\n",
              "5                5  B00006IUTN,B00006IUTN,B00006IUTN,B00006IUTN,B0...\n",
              "6                6  B0000DBN1H,B0000DBN1L,B0000DBN1L,B0000DBN1L,B0...\n",
              "7                7  B0000531B7,B0000531B7,B0000537AF,B0000CH39R,B0...\n",
              "8                8  B0000CFLCT,B00014DJL2,B00015YTU6,B00027CE2S,B0...\n",
              "9                9  B00028Q45A,B000ED7M2W,B000ED9L6C,B000ED9LDU,B0...\n",
              "10              10                                         B001ELL288\n",
              "11              11  B0000DID5R,B00016LA9S,B00017028M,B0001CXUN6,B0..."
            ]
          },
          "metadata": {
            "tags": []
          },
          "execution_count": 88
        }
      ]
    },
    {
      "cell_type": "code",
      "metadata": {
        "id": "rDckfWC0p-5B",
        "colab_type": "code",
        "colab": {}
      },
      "source": [
        "df7.to_csv(r'/content/drive/My Drive/recom.csv')"
      ],
      "execution_count": 0,
      "outputs": []
    },
    {
      "cell_type": "code",
      "metadata": {
        "id": "c3ydMk34xk66",
        "colab_type": "code",
        "colab": {}
      },
      "source": [
        "df7 = pd.read_csv('/content/drive/My Drive/recom.csv')"
      ],
      "execution_count": 0,
      "outputs": []
    },
    {
      "cell_type": "code",
      "metadata": {
        "id": "UA6_-Q-AtksK",
        "colab_type": "code",
        "colab": {}
      },
      "source": [
        "def search(a):\n",
        "  l = [(a, )]\n",
        "  gh = spark.createDataFrame(l, ['reviewText'])\n",
        "  pred = model.transform(gh)\n",
        "  output = pred.collect()[0]['prediction']\n",
        "  fin = df7.loc[df7['Cluster Number'] == output]\n",
        "  fin1 = fin['Product IDs'].values[0]\n",
        "  fin1 = fin1.split(',')\n",
        "  return fin1"
      ],
      "execution_count": 0,
      "outputs": []
    },
    {
      "cell_type": "code",
      "metadata": {
        "id": "Z5TSaX5-Em-d",
        "colab_type": "code",
        "colab": {}
      },
      "source": [
        "def unique(a):\n",
        "  uni = []\n",
        "  for i in a:\n",
        "    if i not in uni:\n",
        "      uni.append(i)\n",
        "  return uni"
      ],
      "execution_count": 0,
      "outputs": []
    },
    {
      "cell_type": "code",
      "metadata": {
        "id": "YY0azjZh1M8C",
        "colab_type": "code",
        "outputId": "2eeafdaf-8b6a-4faf-df68-aa44a6ed703a",
        "colab": {
          "base_uri": "https://localhost:8080/",
          "height": 357
        }
      },
      "source": [
        "a = \"Japnese Kit Kat\"\n",
        "search(a)\n",
        "unique(search(a))[:20]"
      ],
      "execution_count": 0,
      "outputs": [
        {
          "output_type": "execute_result",
          "data": {
            "text/plain": [
              "['616719923X',\n",
              " '9742356831',\n",
              " 'B00004S1C5',\n",
              " 'B0000531B7',\n",
              " 'B00005344V',\n",
              " 'B0000537AF',\n",
              " 'B00005C2M2',\n",
              " 'B00006IUTN',\n",
              " 'B0000CCZYY',\n",
              " 'B0000CD06J',\n",
              " 'B0000CDBQN',\n",
              " 'B0000CDEPD',\n",
              " 'B0000CETGM',\n",
              " 'B0000CFLCT',\n",
              " 'B0000CFLIL',\n",
              " 'B0000CFN0Y',\n",
              " 'B0000CFPI2',\n",
              " 'B0000CH39R',\n",
              " 'B0000CNU15',\n",
              " 'B0000CNU1S']"
            ]
          },
          "metadata": {
            "tags": []
          },
          "execution_count": 96
        }
      ]
    }
  ]
}